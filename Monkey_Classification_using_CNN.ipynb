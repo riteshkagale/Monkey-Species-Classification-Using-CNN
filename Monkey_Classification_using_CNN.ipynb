{
  "nbformat": 4,
  "nbformat_minor": 0,
  "metadata": {
    "colab": {
      "name": "Monkey Classification using CNN.ipynb",
      "provenance": [],
      "collapsed_sections": []
    },
    "kernelspec": {
      "name": "python3",
      "display_name": "Python 3"
    }
  },
  "cells": [
    {
      "cell_type": "markdown",
      "metadata": {
        "id": "EMefrVPCg-60"
      },
      "source": [
        "### Importing the libraries"
      ]
    },
    {
      "cell_type": "code",
      "metadata": {
        "id": "sCV30xyVhFbE"
      },
      "source": [
        "import tensorflow as tf\n",
        "from keras.preprocessing.image import ImageDataGenerator"
      ],
      "execution_count": 1,
      "outputs": []
    },
    {
      "cell_type": "code",
      "metadata": {
        "id": "FIleuCAjoFD8",
        "outputId": "61b594ba-ddb0-4c76-fe18-0794c70e08f0",
        "colab": {
          "base_uri": "https://localhost:8080/",
          "height": 35
        }
      },
      "source": [
        "tf.__version__"
      ],
      "execution_count": 2,
      "outputs": [
        {
          "output_type": "execute_result",
          "data": {
            "application/vnd.google.colaboratory.intrinsic+json": {
              "type": "string"
            },
            "text/plain": [
              "'2.3.0'"
            ]
          },
          "metadata": {
            "tags": []
          },
          "execution_count": 2
        }
      ]
    },
    {
      "cell_type": "code",
      "metadata": {
        "id": "bVd4Ad9-jWh1",
        "outputId": "d882e7cb-71d9-4e7e-e457-b4aa4cd2e4a4",
        "colab": {
          "base_uri": "https://localhost:8080/",
          "height": 34
        }
      },
      "source": [
        "from google.colab import drive\n",
        "drive.mount('/content/gdrive')"
      ],
      "execution_count": 3,
      "outputs": [
        {
          "output_type": "stream",
          "text": [
            "Mounted at /content/gdrive\n"
          ],
          "name": "stdout"
        }
      ]
    },
    {
      "cell_type": "markdown",
      "metadata": {
        "id": "oxQxCBWyoGPE"
      },
      "source": [
        "## Part 1 - Data Preprocessing"
      ]
    },
    {
      "cell_type": "markdown",
      "metadata": {
        "id": "MvE-heJNo3GG"
      },
      "source": [
        "### Preprocessing the Training set"
      ]
    },
    {
      "cell_type": "code",
      "metadata": {
        "id": "0koUcJMJpEBD",
        "outputId": "bd6e4571-ee1c-4146-e856-40f3b5e97a09",
        "colab": {
          "base_uri": "https://localhost:8080/",
          "height": 34
        }
      },
      "source": [
        "train_datagen = ImageDataGenerator(rescale = 1./255,\n",
        "                                   shear_range = 0.2,\n",
        "                                   zoom_range = 0.2,\n",
        "                                   horizontal_flip = True)\n",
        "training_set = train_datagen.flow_from_directory('/content/gdrive/My Drive/Colab Notebooks/dataset/training',\n",
        "                                                 target_size = (64, 64),\n",
        "                                                 batch_size = 32,\n",
        "                                                 class_mode = 'categorical')"
      ],
      "execution_count": 4,
      "outputs": [
        {
          "output_type": "stream",
          "text": [
            "Found 1098 images belonging to 10 classes.\n"
          ],
          "name": "stdout"
        }
      ]
    },
    {
      "cell_type": "markdown",
      "metadata": {
        "id": "mrCMmGw9pHys"
      },
      "source": [
        "### Preprocessing the Test set"
      ]
    },
    {
      "cell_type": "code",
      "metadata": {
        "id": "SH4WzfOhpKc3",
        "outputId": "7bd90847-4ed7-48cc-ba9b-cfccd656a322",
        "colab": {
          "base_uri": "https://localhost:8080/",
          "height": 34
        }
      },
      "source": [
        "test_datagen = ImageDataGenerator(rescale = 1./255)\n",
        "test_set = test_datagen.flow_from_directory('/content/gdrive/My Drive/Colab Notebooks/dataset/validation',\n",
        "                                            target_size = (64, 64),\n",
        "                                            batch_size = 32,\n",
        "                                            class_mode = 'categorical')"
      ],
      "execution_count": 5,
      "outputs": [
        {
          "output_type": "stream",
          "text": [
            "Found 280 images belonging to 10 classes.\n"
          ],
          "name": "stdout"
        }
      ]
    },
    {
      "cell_type": "code",
      "metadata": {
        "id": "UQByvFwXqedR",
        "outputId": "bd07cada-0eae-4157-ca65-fdff867cdbf8",
        "colab": {
          "base_uri": "https://localhost:8080/",
          "height": 185
        }
      },
      "source": [
        "training_set.class_indices"
      ],
      "execution_count": 6,
      "outputs": [
        {
          "output_type": "execute_result",
          "data": {
            "text/plain": [
              "{'n0': 0,\n",
              " 'n1': 1,\n",
              " 'n2': 2,\n",
              " 'n3': 3,\n",
              " 'n4': 4,\n",
              " 'n5': 5,\n",
              " 'n6': 6,\n",
              " 'n7': 7,\n",
              " 'n8': 8,\n",
              " 'n9': 9}"
            ]
          },
          "metadata": {
            "tags": []
          },
          "execution_count": 6
        }
      ]
    },
    {
      "cell_type": "markdown",
      "metadata": {
        "id": "af8O4l90gk7B"
      },
      "source": [
        "## Part 2 - Building the CNN"
      ]
    },
    {
      "cell_type": "markdown",
      "metadata": {
        "id": "ces1gXY2lmoX"
      },
      "source": [
        "### Initialising the CNN"
      ]
    },
    {
      "cell_type": "code",
      "metadata": {
        "id": "SAUt4UMPlhLS"
      },
      "source": [
        "cnn = tf.keras.models.Sequential()"
      ],
      "execution_count": 7,
      "outputs": []
    },
    {
      "cell_type": "markdown",
      "metadata": {
        "id": "u5YJj_XMl5LF"
      },
      "source": [
        "### Step 1 - Convolution"
      ]
    },
    {
      "cell_type": "code",
      "metadata": {
        "id": "XPzPrMckl-hV"
      },
      "source": [
        "cnn.add(tf.keras.layers.Conv2D(filters=32, kernel_size=3, activation='relu', input_shape=[64, 64, 3]))"
      ],
      "execution_count": 8,
      "outputs": []
    },
    {
      "cell_type": "markdown",
      "metadata": {
        "id": "tf87FpvxmNOJ"
      },
      "source": [
        "### Step 2 - Pooling"
      ]
    },
    {
      "cell_type": "code",
      "metadata": {
        "id": "ncpqPl69mOac"
      },
      "source": [
        "cnn.add(tf.keras.layers.MaxPool2D(pool_size=2))"
      ],
      "execution_count": 9,
      "outputs": []
    },
    {
      "cell_type": "markdown",
      "metadata": {
        "id": "xaTOgD8rm4mU"
      },
      "source": [
        "### Adding a second convolutional layer"
      ]
    },
    {
      "cell_type": "code",
      "metadata": {
        "id": "i_-FZjn_m8gk"
      },
      "source": [
        "cnn.add(tf.keras.layers.Conv2D(filters=32, kernel_size=3, activation='relu'))\n",
        "cnn.add(tf.keras.layers.MaxPool2D(pool_size=2))"
      ],
      "execution_count": 10,
      "outputs": []
    },
    {
      "cell_type": "code",
      "metadata": {
        "id": "0pW1dGvHNJMa"
      },
      "source": [
        "cnn.add(tf.keras.layers.Conv2D(filters=32, kernel_size=3, activation='relu'))\n",
        "cnn.add(tf.keras.layers.MaxPool2D(pool_size=2))"
      ],
      "execution_count": 11,
      "outputs": []
    },
    {
      "cell_type": "markdown",
      "metadata": {
        "id": "tmiEuvTunKfk"
      },
      "source": [
        "### Step 3 - Flattening"
      ]
    },
    {
      "cell_type": "code",
      "metadata": {
        "id": "6AZeOGCvnNZn"
      },
      "source": [
        "cnn.add(tf.keras.layers.Flatten())"
      ],
      "execution_count": 12,
      "outputs": []
    },
    {
      "cell_type": "markdown",
      "metadata": {
        "id": "dAoSECOm203v"
      },
      "source": [
        "### Step 4 - Full Connection"
      ]
    },
    {
      "cell_type": "code",
      "metadata": {
        "id": "8GtmUlLd26Nq"
      },
      "source": [
        "cnn.add(tf.keras.layers.Dense(units=512, activation='relu'))"
      ],
      "execution_count": 13,
      "outputs": []
    },
    {
      "cell_type": "code",
      "metadata": {
        "id": "ax3CelvYgLdM"
      },
      "source": [
        "cnn.add(tf.keras.layers.Dropout(rate=0.5))"
      ],
      "execution_count": 14,
      "outputs": []
    },
    {
      "cell_type": "code",
      "metadata": {
        "id": "UkN7XT-PgF4I"
      },
      "source": [
        "cnn.add(tf.keras.layers.Dense(units=128, activation='relu'))"
      ],
      "execution_count": 15,
      "outputs": []
    },
    {
      "cell_type": "markdown",
      "metadata": {
        "id": "yTldFvbX28Na"
      },
      "source": [
        "### Step 5 - Output Layer"
      ]
    },
    {
      "cell_type": "code",
      "metadata": {
        "id": "1p_Zj1Mc3Ko_"
      },
      "source": [
        "cnn.add(tf.keras.layers.Dense(units=10, activation='softmax'))"
      ],
      "execution_count": 16,
      "outputs": []
    },
    {
      "cell_type": "markdown",
      "metadata": {
        "id": "D6XkI90snSDl"
      },
      "source": [
        "## Part 3 - Training the CNN"
      ]
    },
    {
      "cell_type": "markdown",
      "metadata": {
        "id": "vfrFQACEnc6i"
      },
      "source": [
        "### Compiling the CNN"
      ]
    },
    {
      "cell_type": "code",
      "metadata": {
        "id": "NALksrNQpUlJ"
      },
      "source": [
        "cnn.compile(optimizer = 'adam', loss = 'categorical_crossentropy', metrics = ['accuracy'])"
      ],
      "execution_count": 17,
      "outputs": []
    },
    {
      "cell_type": "code",
      "metadata": {
        "id": "1VguFIo-zqf5",
        "outputId": "37ef102d-eebd-4cba-bc62-ff4cbb08b842",
        "colab": {
          "base_uri": "https://localhost:8080/",
          "height": 521
        }
      },
      "source": [
        "cnn.summary()"
      ],
      "execution_count": 18,
      "outputs": [
        {
          "output_type": "stream",
          "text": [
            "Model: \"sequential\"\n",
            "_________________________________________________________________\n",
            "Layer (type)                 Output Shape              Param #   \n",
            "=================================================================\n",
            "conv2d (Conv2D)              (None, 62, 62, 32)        896       \n",
            "_________________________________________________________________\n",
            "max_pooling2d (MaxPooling2D) (None, 31, 31, 32)        0         \n",
            "_________________________________________________________________\n",
            "conv2d_1 (Conv2D)            (None, 29, 29, 32)        9248      \n",
            "_________________________________________________________________\n",
            "max_pooling2d_1 (MaxPooling2 (None, 14, 14, 32)        0         \n",
            "_________________________________________________________________\n",
            "conv2d_2 (Conv2D)            (None, 12, 12, 32)        9248      \n",
            "_________________________________________________________________\n",
            "max_pooling2d_2 (MaxPooling2 (None, 6, 6, 32)          0         \n",
            "_________________________________________________________________\n",
            "flatten (Flatten)            (None, 1152)              0         \n",
            "_________________________________________________________________\n",
            "dense (Dense)                (None, 512)               590336    \n",
            "_________________________________________________________________\n",
            "dropout (Dropout)            (None, 512)               0         \n",
            "_________________________________________________________________\n",
            "dense_1 (Dense)              (None, 128)               65664     \n",
            "_________________________________________________________________\n",
            "dense_2 (Dense)              (None, 10)                1290      \n",
            "=================================================================\n",
            "Total params: 676,682\n",
            "Trainable params: 676,682\n",
            "Non-trainable params: 0\n",
            "_________________________________________________________________\n"
          ],
          "name": "stdout"
        }
      ]
    },
    {
      "cell_type": "markdown",
      "metadata": {
        "id": "ehS-v3MIpX2h"
      },
      "source": [
        "### Training the CNN on the Training set and evaluating it on the Test set"
      ]
    },
    {
      "cell_type": "code",
      "metadata": {
        "id": "XUj1W4PJptta",
        "outputId": "293911ff-3183-4239-f87d-7dbc775cc2cd",
        "colab": {
          "base_uri": "https://localhost:8080/",
          "height": 857
        }
      },
      "source": [
        "fitted_model = cnn.fit(x = training_set,\n",
        "                       steps_per_epoch = int(1098/32),\n",
        "                       epochs = 25,\n",
        "                       validation_data = test_set,\n",
        "                       validation_steps = int(280/32))"
      ],
      "execution_count": 21,
      "outputs": [
        {
          "output_type": "stream",
          "text": [
            "Epoch 1/25\n",
            "34/34 [==============================] - 46s 1s/step - loss: 0.9625 - accuracy: 0.6482 - val_loss: 1.0314 - val_accuracy: 0.6289\n",
            "Epoch 2/25\n",
            "34/34 [==============================] - 44s 1s/step - loss: 0.8989 - accuracy: 0.6904 - val_loss: 1.4274 - val_accuracy: 0.5703\n",
            "Epoch 3/25\n",
            "34/34 [==============================] - 44s 1s/step - loss: 0.9011 - accuracy: 0.6970 - val_loss: 1.0897 - val_accuracy: 0.6328\n",
            "Epoch 4/25\n",
            "34/34 [==============================] - 44s 1s/step - loss: 0.7887 - accuracy: 0.7317 - val_loss: 1.1185 - val_accuracy: 0.6484\n",
            "Epoch 5/25\n",
            "34/34 [==============================] - 44s 1s/step - loss: 0.7454 - accuracy: 0.7467 - val_loss: 1.0629 - val_accuracy: 0.6406\n",
            "Epoch 6/25\n",
            "34/34 [==============================] - 44s 1s/step - loss: 0.7260 - accuracy: 0.7505 - val_loss: 1.0228 - val_accuracy: 0.6289\n",
            "Epoch 7/25\n",
            "34/34 [==============================] - 44s 1s/step - loss: 0.7114 - accuracy: 0.7486 - val_loss: 0.9287 - val_accuracy: 0.6797\n",
            "Epoch 8/25\n",
            "34/34 [==============================] - 45s 1s/step - loss: 0.6575 - accuracy: 0.7795 - val_loss: 0.9462 - val_accuracy: 0.6797\n",
            "Epoch 9/25\n",
            "34/34 [==============================] - 44s 1s/step - loss: 0.6073 - accuracy: 0.7730 - val_loss: 1.0503 - val_accuracy: 0.6445\n",
            "Epoch 10/25\n",
            "34/34 [==============================] - 44s 1s/step - loss: 0.5980 - accuracy: 0.7871 - val_loss: 0.8598 - val_accuracy: 0.7188\n",
            "Epoch 11/25\n",
            "34/34 [==============================] - 43s 1s/step - loss: 0.5748 - accuracy: 0.7936 - val_loss: 0.9258 - val_accuracy: 0.7148\n",
            "Epoch 12/25\n",
            "34/34 [==============================] - 45s 1s/step - loss: 0.5339 - accuracy: 0.8039 - val_loss: 0.9203 - val_accuracy: 0.7031\n",
            "Epoch 13/25\n",
            "34/34 [==============================] - 44s 1s/step - loss: 0.5200 - accuracy: 0.8124 - val_loss: 0.9277 - val_accuracy: 0.6953\n",
            "Epoch 14/25\n",
            "34/34 [==============================] - 44s 1s/step - loss: 0.5293 - accuracy: 0.8180 - val_loss: 1.0189 - val_accuracy: 0.6836\n",
            "Epoch 15/25\n",
            "34/34 [==============================] - 44s 1s/step - loss: 0.5151 - accuracy: 0.8133 - val_loss: 0.8980 - val_accuracy: 0.7188\n",
            "Epoch 16/25\n",
            "34/34 [==============================] - 43s 1s/step - loss: 0.4019 - accuracy: 0.8696 - val_loss: 0.9877 - val_accuracy: 0.6992\n",
            "Epoch 17/25\n",
            "34/34 [==============================] - 44s 1s/step - loss: 0.4213 - accuracy: 0.8471 - val_loss: 1.0049 - val_accuracy: 0.6836\n",
            "Epoch 18/25\n",
            "34/34 [==============================] - 43s 1s/step - loss: 0.4222 - accuracy: 0.8583 - val_loss: 1.0427 - val_accuracy: 0.6797\n",
            "Epoch 19/25\n",
            "34/34 [==============================] - 45s 1s/step - loss: 0.3665 - accuracy: 0.8846 - val_loss: 1.0600 - val_accuracy: 0.6992\n",
            "Epoch 20/25\n",
            "34/34 [==============================] - 44s 1s/step - loss: 0.3627 - accuracy: 0.8809 - val_loss: 1.0262 - val_accuracy: 0.6953\n",
            "Epoch 21/25\n",
            "34/34 [==============================] - 44s 1s/step - loss: 0.3617 - accuracy: 0.8677 - val_loss: 1.1403 - val_accuracy: 0.6719\n",
            "Epoch 22/25\n",
            "34/34 [==============================] - 44s 1s/step - loss: 0.2996 - accuracy: 0.8959 - val_loss: 0.8681 - val_accuracy: 0.7188\n",
            "Epoch 23/25\n",
            "34/34 [==============================] - 44s 1s/step - loss: 0.3254 - accuracy: 0.8837 - val_loss: 1.3043 - val_accuracy: 0.6641\n",
            "Epoch 24/25\n",
            "34/34 [==============================] - 44s 1s/step - loss: 0.3428 - accuracy: 0.8809 - val_loss: 1.1031 - val_accuracy: 0.6719\n",
            "Epoch 25/25\n",
            "34/34 [==============================] - 43s 1s/step - loss: 0.2621 - accuracy: 0.9137 - val_loss: 0.9889 - val_accuracy: 0.7266\n"
          ],
          "name": "stdout"
        }
      ]
    },
    {
      "cell_type": "code",
      "metadata": {
        "id": "2L_RaoIZG87L",
        "outputId": "88aa3ef4-6a6b-4455-8fc6-bbace0883894",
        "colab": {
          "base_uri": "https://localhost:8080/",
          "height": 282
        }
      },
      "source": [
        "import matplotlib.pyplot as plt\n",
        "# plotting accuracy and validation accuracy\n",
        "accuracy = fitted_model.history['accuracy']\n",
        "plt.plot(range(len(accuracy)), accuracy, 'bo', label = 'accuracy')\n",
        "\n",
        "plt.legend()"
      ],
      "execution_count": 22,
      "outputs": [
        {
          "output_type": "execute_result",
          "data": {
            "text/plain": [
              "<matplotlib.legend.Legend at 0x7f6fbb615208>"
            ]
          },
          "metadata": {
            "tags": []
          },
          "execution_count": 22
        },
        {
          "output_type": "display_data",
          "data": {
            "image/png": "[encoded data removed]",
            "text/plain": [
              "<Figure size 432x288 with 1 Axes>"
            ]
          },
          "metadata": {
            "tags": [],
            "needs_background": "light"
          }
        }
      ]
    },
    {
      "cell_type": "markdown",
      "metadata": {
        "id": "U3PZasO0006Z"
      },
      "source": [
        "## Part 4 - Making a single prediction"
      ]
    },
    {
      "cell_type": "code",
      "metadata": {
        "id": "gsSiWEJY1BPB",
        "outputId": "665b5321-7702-47b5-f533-72e20c77af65",
        "colab": {
          "base_uri": "https://localhost:8080/",
          "height": 202
        }
      },
      "source": [
        "import numpy as np\n",
        "from keras.preprocessing import image\n",
        "test_image = image.load_img('/content/gdrive/My Drive/Colab Notebooks/dataset/samples/monkey_4.jpg', target_size = (64, 64))\n",
        "test_image = image.img_to_array(test_image)\n",
        "test_image = np.expand_dims(test_image, axis = 0)\n",
        "result = cnn.predict(test_image)\n",
        "print(result)\n",
        "training_set.class_indices"
      ],
      "execution_count": 29,
      "outputs": [
        {
          "output_type": "stream",
          "text": [
            "[[0. 1. 0. 0. 0. 0. 0. 0. 0. 0.]]\n"
          ],
          "name": "stdout"
        },
        {
          "output_type": "execute_result",
          "data": {
            "text/plain": [
              "{'n0': 0,\n",
              " 'n1': 1,\n",
              " 'n2': 2,\n",
              " 'n3': 3,\n",
              " 'n4': 4,\n",
              " 'n5': 5,\n",
              " 'n6': 6,\n",
              " 'n7': 7,\n",
              " 'n8': 8,\n",
              " 'n9': 9}"
            ]
          },
          "metadata": {
            "tags": []
          },
          "execution_count": 29
        }
      ]
    },
    {
      "cell_type": "markdown",
      "metadata": {
        "id": "2m9qK89grOr-"
      },
      "source": [
        "n0, alouattapalliata  n1, erythrocebuspatas\n",
        "\n",
        "n2, cacajaocalvus n3, macacafuscata\n",
        "\n",
        "n4, cebuellapygmea n5, cebuscapucinus\n",
        "\n",
        "n6, micoargentatus n7, saimirisciureus\n",
        "\n",
        "n8, aotusnigriceps n9, trachypithecusjohnii"
      ]
    }
  ]
}